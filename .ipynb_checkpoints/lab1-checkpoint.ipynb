{
 "cells": [
  {
   "cell_type": "markdown",
   "id": "a53a1f28-8273-453c-bfed-2a436c83ca01",
   "metadata": {},
   "source": [
    "# Preparacion Inicial"
   ]
  },
  {
   "cell_type": "code",
   "execution_count": 1,
   "id": "505d2e15-b81c-45fd-a009-a39ecd7a9033",
   "metadata": {
    "collapsed": true,
    "jupyter": {
     "outputs_hidden": true
    },
    "scrolled": true,
    "tags": []
   },
   "outputs": [
    {
     "name": "stdout",
     "output_type": "stream",
     "text": [
      "Collecting scikit-learn-extra\n",
      "  Downloading scikit_learn_extra-0.3.0-cp311-cp311-win_amd64.whl (340 kB)\n",
      "     ---------------------------------------- 0.0/340.5 kB ? eta -:--:--\n",
      "     - -------------------------------------- 10.2/340.5 kB ? eta -:--:--\n",
      "     ------ ------------------------------ 61.4/340.5 kB 648.1 kB/s eta 0:00:01\n",
      "     -------------------------------------- 340.5/340.5 kB 3.0 MB/s eta 0:00:00\n",
      "Collecting numpy>=1.13.3 (from scikit-learn-extra)\n",
      "  Obtaining dependency information for numpy>=1.13.3 from https://files.pythonhosted.org/packages/72/b2/02770e60c4e2f7e158d923ab0dea4e9f146a2dbf267fec6d8dc61d475689/numpy-1.25.2-cp311-cp311-win_amd64.whl.metadata\n",
      "  Downloading numpy-1.25.2-cp311-cp311-win_amd64.whl.metadata (5.7 kB)\n",
      "Collecting scipy>=0.19.1 (from scikit-learn-extra)\n",
      "  Obtaining dependency information for scipy>=0.19.1 from https://files.pythonhosted.org/packages/06/15/e73734f9170b66c6a84a0bd7e03586e87e77404e2eb8e34749fc49fa43f7/scipy-1.11.2-cp311-cp311-win_amd64.whl.metadata\n",
      "  Downloading scipy-1.11.2-cp311-cp311-win_amd64.whl.metadata (59 kB)\n",
      "     ---------------------------------------- 0.0/59.1 kB ? eta -:--:--\n",
      "     ---------------------------------------- 59.1/59.1 kB ? eta 0:00:00\n",
      "Collecting scikit-learn>=0.23.0 (from scikit-learn-extra)\n",
      "  Obtaining dependency information for scikit-learn>=0.23.0 from https://files.pythonhosted.org/packages/77/85/bff3a1e818ec6aa3dd466ff4f4b0a727db9fdb41f2e849747ad902ddbe95/scikit_learn-1.3.0-cp311-cp311-win_amd64.whl.metadata\n",
      "  Downloading scikit_learn-1.3.0-cp311-cp311-win_amd64.whl.metadata (11 kB)\n",
      "Collecting joblib>=1.1.1 (from scikit-learn>=0.23.0->scikit-learn-extra)\n",
      "  Obtaining dependency information for joblib>=1.1.1 from https://files.pythonhosted.org/packages/10/40/d551139c85db202f1f384ba8bcf96aca2f329440a844f924c8a0040b6d02/joblib-1.3.2-py3-none-any.whl.metadata\n",
      "  Downloading joblib-1.3.2-py3-none-any.whl.metadata (5.4 kB)\n",
      "Collecting threadpoolctl>=2.0.0 (from scikit-learn>=0.23.0->scikit-learn-extra)\n",
      "  Obtaining dependency information for threadpoolctl>=2.0.0 from https://files.pythonhosted.org/packages/81/12/fd4dea011af9d69e1cad05c75f3f7202cdcbeac9b712eea58ca779a72865/threadpoolctl-3.2.0-py3-none-any.whl.metadata\n",
      "  Downloading threadpoolctl-3.2.0-py3-none-any.whl.metadata (10.0 kB)\n",
      "Downloading numpy-1.25.2-cp311-cp311-win_amd64.whl (15.5 MB)\n",
      "   ---------------------------------------- 0.0/15.5 MB ? eta -:--:--\n",
      "   ----- ---------------------------------- 2.2/15.5 MB 46.4 MB/s eta 0:00:01\n",
      "   ---------- ----------------------------- 4.2/15.5 MB 44.8 MB/s eta 0:00:01\n",
      "   ---------------- ----------------------- 6.2/15.5 MB 44.2 MB/s eta 0:00:01\n",
      "   --------------------- ------------------ 8.3/15.5 MB 43.9 MB/s eta 0:00:01\n",
      "   -------------------------- ------------- 10.3/15.5 MB 43.5 MB/s eta 0:00:01\n",
      "   ------------------------------- -------- 12.3/15.5 MB 43.5 MB/s eta 0:00:01\n",
      "   ------------------------------------ --- 14.3/15.5 MB 43.5 MB/s eta 0:00:01\n",
      "   ---------------------------------------  15.5/15.5 MB 43.5 MB/s eta 0:00:01\n",
      "   ---------------------------------------- 15.5/15.5 MB 34.4 MB/s eta 0:00:00\n",
      "Downloading scikit_learn-1.3.0-cp311-cp311-win_amd64.whl (9.2 MB)\n",
      "   ---------------------------------------- 0.0/9.2 MB ? eta -:--:--\n",
      "   -------- ------------------------------- 1.9/9.2 MB 41.2 MB/s eta 0:00:01\n",
      "   ----------------- ---------------------- 4.0/9.2 MB 42.8 MB/s eta 0:00:01\n",
      "   -------------------------- ------------- 6.1/9.2 MB 43.2 MB/s eta 0:00:01\n",
      "   ----------------------------------- ---- 8.1/9.2 MB 43.3 MB/s eta 0:00:01\n",
      "   ---------------------------------------  9.2/9.2 MB 41.9 MB/s eta 0:00:01\n",
      "   ---------------------------------------- 9.2/9.2 MB 36.7 MB/s eta 0:00:00\n",
      "Downloading scipy-1.11.2-cp311-cp311-win_amd64.whl (44.0 MB)\n",
      "   ---------------------------------------- 0.0/44.0 MB ? eta -:--:--\n",
      "   -- ------------------------------------- 2.3/44.0 MB 49.5 MB/s eta 0:00:01\n",
      "   --- ------------------------------------ 4.4/44.0 MB 46.5 MB/s eta 0:00:01\n",
      "   ----- ---------------------------------- 6.4/44.0 MB 45.3 MB/s eta 0:00:01\n",
      "   ------- -------------------------------- 8.4/44.0 MB 44.7 MB/s eta 0:00:01\n",
      "   --------- ------------------------------ 10.5/44.0 MB 43.5 MB/s eta 0:00:01\n",
      "   ----------- ---------------------------- 12.5/44.0 MB 43.7 MB/s eta 0:00:01\n",
      "   ------------- -------------------------- 14.5/44.0 MB 43.7 MB/s eta 0:00:01\n",
      "   --------------- ------------------------ 16.5/44.0 MB 43.7 MB/s eta 0:00:01\n",
      "   ---------------- ----------------------- 18.6/44.0 MB 43.7 MB/s eta 0:00:01\n",
      "   ------------------ --------------------- 20.7/44.0 MB 43.7 MB/s eta 0:00:01\n",
      "   -------------------- ------------------- 22.7/44.0 MB 43.5 MB/s eta 0:00:01\n",
      "   ---------------------- ----------------- 24.7/44.0 MB 43.5 MB/s eta 0:00:01\n",
      "   ------------------------ --------------- 26.7/44.0 MB 43.5 MB/s eta 0:00:01\n",
      "   -------------------------- ------------- 28.8/44.0 MB 43.7 MB/s eta 0:00:01\n",
      "   ---------------------------- ----------- 30.9/44.0 MB 43.7 MB/s eta 0:00:01\n",
      "   ----------------------------- ---------- 32.9/44.0 MB 43.7 MB/s eta 0:00:01\n",
      "   ------------------------------- -------- 34.9/44.0 MB 43.7 MB/s eta 0:00:01\n",
      "   --------------------------------- ------ 37.0/44.0 MB 43.7 MB/s eta 0:00:01\n",
      "   ----------------------------------- ---- 39.0/44.0 MB 43.5 MB/s eta 0:00:01\n",
      "   ------------------------------------- -- 41.0/44.0 MB 43.5 MB/s eta 0:00:01\n",
      "   ---------------------------------------  43.0/44.0 MB 43.5 MB/s eta 0:00:01\n",
      "   ---------------------------------------  44.0/44.0 MB 43.7 MB/s eta 0:00:01\n",
      "   ---------------------------------------  44.0/44.0 MB 43.7 MB/s eta 0:00:01\n",
      "   ---------------------------------------  44.0/44.0 MB 43.7 MB/s eta 0:00:01\n",
      "   ---------------------------------------  44.0/44.0 MB 43.7 MB/s eta 0:00:01\n",
      "   ---------------------------------------- 44.0/44.0 MB 21.8 MB/s eta 0:00:00\n",
      "Downloading joblib-1.3.2-py3-none-any.whl (302 kB)\n",
      "   ---------------------------------------- 0.0/302.2 kB ? eta -:--:--\n",
      "   --------------------------------------- 302.2/302.2 kB 18.2 MB/s eta 0:00:00\n",
      "Downloading threadpoolctl-3.2.0-py3-none-any.whl (15 kB)\n",
      "Installing collected packages: threadpoolctl, numpy, joblib, scipy, scikit-learn, scikit-learn-extra\n",
      "Successfully installed joblib-1.3.2 numpy-1.25.2 scikit-learn-1.3.0 scikit-learn-extra-0.3.0 scipy-1.11.2 threadpoolctl-3.2.0\n"
     ]
    }
   ],
   "source": [
    "!pip install scikit-learn-extra"
   ]
  },
  {
   "cell_type": "markdown",
   "id": "cd4fbc43-2d6b-4d9e-8bd7-7fd4041e2e84",
   "metadata": {},
   "source": [
    "import numpy as np\n",
    "import pandas as pd\n",
    "\n",
    "from sklearn.preprocessing import StandardScaler\n",
    "from sklearn.cluster import KMeans, AgglomerativeClustering\n",
    "from sklearn.mixture import GaussianMixture\n",
    "from sklearn.metrics import silhouette_samples, silhouette_score\n",
    "\n",
    "from scipy.cluster.hierarchy import dendrogram\n",
    "\n",
    "from sklearn_extra.cluster import KMedoids\n",
    "\n",
    "import matplotlib.pyplot as plt\n",
    "import matplotlib.cm as cm\n",
    "import seaborn as sns"
   ]
  },
  {
   "cell_type": "code",
   "execution_count": null,
   "id": "1279efc6-5786-4de3-ae6d-fd82af07850b",
   "metadata": {},
   "outputs": [],
   "source": [
    "pd.set_option('display.max_columns', None)\n",
    "pd.set_option('display.max_rows', 50)"
   ]
  },
  {
   "cell_type": "code",
   "execution_count": null,
   "id": "f6b2a42c-0a97-49dd-a871-3cb4c4c4d793",
   "metadata": {},
   "outputs": [],
   "source": []
  }
 ],
 "metadata": {
  "kernelspec": {
   "display_name": "Python 3 (ipykernel)",
   "language": "python",
   "name": "python3"
  },
  "language_info": {
   "codemirror_mode": {
    "name": "ipython",
    "version": 3
   },
   "file_extension": ".py",
   "mimetype": "text/x-python",
   "name": "python",
   "nbconvert_exporter": "python",
   "pygments_lexer": "ipython3",
   "version": "3.11.5"
  }
 },
 "nbformat": 4,
 "nbformat_minor": 5
}
